{
 "cells": [
  {
   "cell_type": "markdown",
   "metadata": {
    "nbgrader": {
     "grade": false,
     "grade_id": "cell-6bd0516e7cb654f5",
     "locked": true,
     "schema_version": 1,
     "solution": false
    }
   },
   "source": [
    "# Exercise 2: Decision Trees\n",
    "\n",
    "In this assignment you will implement a Decision Tree algorithm as learned in class.\n",
    "\n",
    "## Read the following instructions carefully:\n",
    "\n",
    "1. This jupyter notebook contains all the step by step instructions needed for this exercise.\n",
    "2. Write **efficient vectorized** code whenever possible. Some calculations in this exercise take several minutes when implemented efficiently, and might take much longer otherwise. Unnecessary loops will result in point deduction.\n",
    "3. You are responsible for the correctness of your code and should add as many tests as you see fit. Tests will not be graded nor checked.\n",
    "4. Write your functions in this notebook only. **Do not create Python modules and import them**.\n",
    "5. You are allowed to use functions and methods from the [Python Standard Library](https://docs.python.org/3/library/) and [numpy](https://www.numpy.org/devdocs/reference/) only. **Do not import anything else.**\n",
    "6. Your code must run without errors. During the environment setup, you were given a specific version of `numpy` to install (1.15.4). Changes of the configuration we provided are at your own risk. Any code that cannot run will not be graded.\n",
    "7. Write your own code. Cheating will not be tolerated.\n",
    "8. Submission includes this notebook only with the exercise number and your ID as the filename. For example: `hw1_123456789_987654321.ipynb` if you submitted in pairs and `hw1_123456789.ipynb` if you submitted the exercise alone.\n",
    "9. Answers to qualitative questions should be written in **markdown** cells (with $\\LaTeX$ support). Answers that will be written in commented code blocks will not be checked.\n",
    "\n",
    "## In this exercise you will perform the following:\n",
    "1. Practice OOP in python.\n",
    "2. Implement two impurity measures: Gini and Entropy.\n",
    "3. Construct a decision tree algorithm.\n",
    "4. Prune the tree to achieve better results.\n",
    "5. Visualize your results."
   ]
  },
  {
   "cell_type": "markdown",
   "metadata": {},
   "source": [
    "### I have read and understood the instructions: 309797827  305494452"
   ]
  },
  {
   "cell_type": "code",
   "execution_count": 5,
   "metadata": {
    "nbgrader": {
     "grade": false,
     "grade_id": "cell-ed9fe7b1026e33cb",
     "locked": true,
     "schema_version": 1,
     "solution": false
    }
   },
   "outputs": [
    {
     "name": "stdout",
     "output_type": "stream",
     "text": [
      "The autoreload extension is already loaded. To reload it, use:\n",
      "  %reload_ext autoreload\n"
     ]
    }
   ],
   "source": [
    "import numpy as np\n",
    "import pandas as pd\n",
    "import matplotlib.pyplot as plt\n",
    "\n",
    "\n",
    "# make matplotlib figures appear inline in the notebook\n",
    "%matplotlib inline\n",
    "plt.rcParams['figure.figsize'] = (10.0, 8.0) # set default size of plots\n",
    "plt.rcParams['image.interpolation'] = 'nearest'\n",
    "plt.rcParams['image.cmap'] = 'gray'\n",
    "\n",
    "# Make the notebook automatically reload external python modules\n",
    "%load_ext autoreload\n",
    "%autoreload 2\n",
    "# Ignore warnings\n",
    "import warnings\n",
    "warnings.filterwarnings('ignore')"
   ]
  },
  {
   "cell_type": "markdown",
   "metadata": {
    "nbgrader": {
     "grade": false,
     "grade_id": "cell-c6ac605270c2b091",
     "locked": true,
     "schema_version": 1,
     "solution": false
    }
   },
   "source": [
    "## Warmup - OOP in python\n",
    "\n",
    "Our desicion tree will be implemented using a dedicated python class. Python classes are very similar to classes in Java.\n",
    "\n",
    "\n",
    "You can use the following [site](https://jeffknupp.com/blog/2014/06/18/improve-your-python-python-classes-and-object-oriented-programming/) to learn about classes in python."
   ]
  },
  {
   "cell_type": "code",
   "execution_count": 6,
   "metadata": {},
   "outputs": [],
   "source": [
    "class Node(object):\n",
    "    def __init__(self, data):\n",
    "        self.data = data\n",
    "        self.children = []\n",
    "\n",
    "    def add_child(self, node):\n",
    "        self.children.append(node)"
   ]
  },
  {
   "cell_type": "code",
   "execution_count": 7,
   "metadata": {},
   "outputs": [
    {
     "data": {
      "text/plain": [
       "[<__main__.Node at 0x1c3bfc1b8c8>, <__main__.Node at 0x1c3bfafc9c8>]"
      ]
     },
     "execution_count": 7,
     "metadata": {},
     "output_type": "execute_result"
    }
   ],
   "source": [
    "n = Node(5)\n",
    "p = Node(6)\n",
    "q = Node(1)\n",
    "n.add_child(p)\n",
    "n.add_child(q)\n",
    "n.children"
   ]
  },
  {
   "cell_type": "markdown",
   "metadata": {
    "nbgrader": {
     "grade": false,
     "grade_id": "cell-2f1ceb251c649b62",
     "locked": true,
     "schema_version": 1,
     "solution": false
    }
   },
   "source": [
    "## Data preprocessing\n",
    "\n",
    "For the following exercise, we will use a dataset containing mushroom data `agaricus-lepiota.csv`. \n",
    "\n",
    "This data set includes descriptions of hypothetical samples corresponding to 23 species of gilled mushrooms in the Agaricus and Lepiota Family. Each species is identified as definitely edible, definitely poisonous, or of unknown edibility and not recommended. This latter class was combined with the poisonous\n",
    "one (=there are only two classes **edible** and **poisonous**). \n",
    "    \n",
    "The dataset contains 8124 observations with 22 features:\n",
    "1. cap-shape: bell=b,conical=c,convex=x,flat=f,knobbed=k,sunken=s\n",
    "2. cap-surface: fibrous=f,grooves=g,scaly=y,smooth=s\n",
    "3. cap-color: brown=n,buff=b,cinnamon=c,gray=g,green=r,pink=p,purple=u,red=e,white=w,yellow=y\n",
    "4. bruises: bruises=t,no=f\n",
    "5. odor: almond=a,anise=l,creosote=c,fishy=y,foul=f, musty=m,none=n,pungent=p,spicy=s\n",
    "6. gill-attachment: attached=a,descending=d,free=f,notched=n\n",
    "7. gill-spacing: close=c,crowded=w,distant=d\n",
    "8. gill-size: broad=b,narrow=n\n",
    "9. gill-color: black=k,brown=n,buff=b,chocolate=h,gray=g,green=r,orange=o,pink=p,purple=u,red=e,white=w,yellow=y\n",
    "10. stalk-shape: enlarging=e,tapering=t\n",
    "11. stalk-root: bulbous=b,club=c,cup=u,equal=e,rhizomorphs=z,rooted=r\n",
    "12. stalk-surface-above-ring: fibrous=f,scaly=y,silky=k,smooth=s\n",
    "13. stalk-surface-below-ring: fibrous=f,scaly=y,silky=k,smooth=s\n",
    "14. stalk-color-above-ring: brown=n,buff=b,cinnamon=c,gray=g,orange=o,pink=p,red=e,white=w,yellow=y\n",
    "15. stalk-color-below-ring: brown=n,buff=b,cinnamon=c,gray=g,orange=o,pink=p,red=e,white=w,yellow=y\n",
    "16. veil-type: partial=p,universal=u\n",
    "17. veil-color: brown=n,orange=o,white=w,yellow=y\n",
    "18. ring-number: none=n,one=o,two=t\n",
    "19. ring-type: cobwebby=c,evanescent=e,flaring=f,large=l,none=n,pendant=p,sheathing=s,zone=z\n",
    "20. spore-print-color: black=k,brown=n,buff=b,chocolate=h,green=r,orange=o,purple=u,white=w,yellow=y\n",
    "21. population: abundant=a,clustered=c,numerous=n,scattered=s,several=v,solitary=y\n",
    "22. habitat: grasses=g,leaves=l,meadows=m,paths=p,urban=u,waste=w,woods=d\n",
    "\n",
    "First, we will read and explore the data using pandas and the `.read_csv` method. Pandas is an open source library providing high-performance, easy-to-use data structures and data analysis tools for the Python programming language."
   ]
  },
  {
   "cell_type": "code",
   "execution_count": 8,
   "metadata": {
    "nbgrader": {
     "grade": false,
     "grade_id": "cell-d79cb4542926ad3f",
     "locked": true,
     "schema_version": 1,
     "solution": false
    }
   },
   "outputs": [],
   "source": [
    "# load dataset\n",
    "data = pd.read_csv('agaricus-lepiota.csv')"
   ]
  },
  {
   "cell_type": "markdown",
   "metadata": {},
   "source": [
    "One of the advantages of the Decision Tree algorithm is that almost no preprocessing is required. However, finding missing values is always required."
   ]
  },
  {
   "cell_type": "code",
   "execution_count": 9,
   "metadata": {},
   "outputs": [
    {
     "data": {
      "text/plain": [
       "(8124, 22)"
      ]
     },
     "execution_count": 9,
     "metadata": {},
     "output_type": "execute_result"
    }
   ],
   "source": [
    "#############################################################################\n",
    "# TODO: Find the column\\s with missing values and remove them from the data.#\n",
    "#############################################################################\n",
    "#Delete all column with empty string and Nan values from data\n",
    "NaNValue=float(\"NaN\")\n",
    "data.replace(\"\",NaNValue, inplace=True)\n",
    "data=data.dropna(axis=1,how='any')\n",
    "data.shape\n",
    "#############################################################################\n",
    "#                             END OF YOUR CODE                              #\n",
    "#############################################################################"
   ]
  },
  {
   "cell_type": "markdown",
   "metadata": {},
   "source": [
    "We will split the dataset to `Training` and `Test` sets"
   ]
  },
  {
   "cell_type": "code",
   "execution_count": 10,
   "metadata": {},
   "outputs": [
    {
     "name": "stdout",
     "output_type": "stream",
     "text": [
      "Training dataset shape:  (6093, 22)\n",
      "Testing dataset shape:  (2031, 22)\n"
     ]
    }
   ],
   "source": [
    "from sklearn.model_selection import train_test_split\n",
    "# Making sure the last column will hold the labels\n",
    "X, y = data.drop('class', axis=1), data['class']\n",
    "X = np.column_stack([X,y])\n",
    "# split dataset using random_state to get the same split each time\n",
    "X_train, X_test = train_test_split(X, random_state=99)\n",
    "\n",
    "print(\"Training dataset shape: \", X_train.shape)\n",
    "print(\"Testing dataset shape: \", X_test.shape)"
   ]
  },
  {
   "cell_type": "code",
   "execution_count": 11,
   "metadata": {},
   "outputs": [
    {
     "data": {
      "text/plain": [
       "(8124,)"
      ]
     },
     "execution_count": 11,
     "metadata": {},
     "output_type": "execute_result"
    }
   ],
   "source": [
    "y.shape"
   ]
  },
  {
   "cell_type": "markdown",
   "metadata": {
    "nbgrader": {
     "grade": false,
     "grade_id": "cell-fd7b0191f3f1e897",
     "locked": true,
     "schema_version": 1,
     "solution": false
    }
   },
   "source": [
    "## Impurity Measures\n",
    "\n",
    "(5 points each - 10 points total)\n",
    "\n",
    "Impurity is a measure of how often a randomly chosen element from the set would be incorrectly labeled if it was randomly labeled according to the distribution of labels in the subset. Implement the functions `calc_gini` and `calc_entropy`. You are encouraged to test your implementation."
   ]
  },
  {
   "cell_type": "code",
   "execution_count": 12,
   "metadata": {},
   "outputs": [],
   "source": [
    "def calc_gini(data):\n",
    "    \"\"\"\n",
    "    Calculate gini impurity measure of a dataset.\n",
    "          \n",
    "    Input:\n",
    "    - data: any dataset where the last column holds the labels.\n",
    " \n",
    "    Returns the gini impurity.    \n",
    "    \"\"\"\n",
    "    gini = 0.0\n",
    "    ###########################################################################\n",
    "    # TODO: Implement the function.                                           #\n",
    "    ###########################################################################\n",
    "    #Get data classification column\n",
    "    npClassification = np.array(data[:,-1])\n",
    "    #Get 2 numpy arrays, unique string name feature, array with the amount of apperancess of each feature coordinated\n",
    "    npUniqueClassification, npCountClassification = np.unique(npClassification,return_counts = True)\n",
    "    # Gini index calculation\n",
    "    npClassificationProb = npCountClassification / npClassification.shape\n",
    "    npClassificationProbPow = np.square(npClassificationProb)\n",
    "    gini = 1 - (np.sum(npClassificationProbPow))\n",
    "    ###########################################################################\n",
    "    #                             END OF YOUR CODE                            #\n",
    "    ###########################################################################\n",
    "    return gini"
   ]
  },
  {
   "cell_type": "code",
   "execution_count": 13,
   "metadata": {},
   "outputs": [],
   "source": [
    "def calc_entropy(data):\n",
    "    \"\"\"\n",
    "    Calculate the entropy of a dataset.\n",
    "\n",
    "    Input:\n",
    "    - data: any dataset where the last column holds the labels.\n",
    "\n",
    "    Returns the entropy of the dataset.    \n",
    "    \"\"\"\n",
    "    entropy = 0.0\n",
    "    ###########################################################################\n",
    "    # TODO: Implement the function.                                           #\n",
    "    ###########################################################################\n",
    "    #Get data classification column\n",
    "    npClassification = np.array(data[:,-1])\n",
    "    #Get 2 numpy arrays, unique string name feature, array with the amount of apperancess of each feature coordinated\n",
    "    npUniqueClassification, npCountClassification = np.unique(npClassification,return_counts = True)\n",
    "    # Entropy index calculation\n",
    "    npClassificationProb = npCountClassification / npClassification.shape\n",
    "    npClassificationProbLog=np.log2(npClassificationProb)\n",
    "    entropy=(-1)*np.sum(npClassificationProb*npClassificationProbLog)\n",
    "    ###########################################################################\n",
    "    #                             END OF YOUR CODE                            #\n",
    "    ###########################################################################\n",
    "    return entropy"
   ]
  },
  {
   "cell_type": "code",
   "execution_count": 14,
   "metadata": {},
   "outputs": [
    {
     "name": "stdout",
     "output_type": "stream",
     "text": [
      "0.4993774351913738\n",
      "0.99910164235515\n"
     ]
    }
   ],
   "source": [
    "##### Your Tests Here #####\n",
    "print(calc_gini(X_train))\n",
    "print(calc_entropy(X_train))"
   ]
  },
  {
   "cell_type": "markdown",
   "metadata": {},
   "source": [
    "## Goodness of Split\n",
    "\n",
    "(10 Points)\n",
    "\n",
    "Given a feature the Goodnees of Split measures the reduction in the impurity if we split the data according to the feature.\n",
    "$$\n",
    "\\Delta\\varphi(S, A) = \\varphi(S) - \\sum_{v\\in Values(A)} \\frac{|S_v|}{|S|}\\varphi(S_v)\n",
    "$$\n",
    "\n",
    "In our implementation the goodness_of_split function will return either the Goodness of Split or the Gain Ratio as learned in class. You'll control the return value with the `gain_ratio` parameter. If this parameter will set to False (the default value) it will return the regular Goodness of Split. If it will set to True it will return the Gain Ratio.\n",
    "$$\n",
    "GainRatio(S,A)=\\frac{InformationGain(S,A)}{SplitInformation(S,A)}\n",
    "$$\n",
    "Where:\n",
    "$$\n",
    "InformationGain(S,A)=Goodness\\ of\\ Split\\ calculated\\ with\\ Entropy\\ as\\ the\\ Impurity\\ function \\\\\n",
    "SplitInformation(S,A)=- \\sum_{a\\in A} \\frac{|S_a|}{|S|}\\log\\frac{|S_a|}{|S|}\n",
    "$$\n",
    "NOTE: you can add more parameters to the function and you can also add more returning variables (The given parameters and the given returning variable should not be touch)."
   ]
  },
  {
   "cell_type": "code",
   "execution_count": 15,
   "metadata": {},
   "outputs": [],
   "source": [
    "def goodness_of_split(data, feature, impurity_func, gain_ratio=False):\n",
    "    \"\"\"\n",
    "    Calculate the goodness of split of a dataset given a feature and impurity function.\n",
    "\n",
    "    Input:\n",
    "    - data: any dataset where the last column holds the labels.\n",
    "    - feature: the feature index.\n",
    "    \n",
    "    - impurity func: a function that calculates the impurity.\n",
    "    - gain_ratio: goodness of split or gain ratio flag.\n",
    "\n",
    "    Returns the goodness of split (or the Gain Ration).  \n",
    "    \"\"\"\n",
    "    ###########################################################################\n",
    "    # TODO: Implement the function.                                           #\n",
    "    ###########################################################################   \n",
    "    index = 0    \n",
    "    npFeature = np.array(data[:,feature])\n",
    "    npLabel = np.array(data[:,-1])\n",
    "    #Combine the feature and label columns\n",
    "    npFeatureAndLabel = np.column_stack((npFeature,npLabel))\n",
    "    #Get 2 numpy arrays, unique string name feature, array with the amount of apperancess of each feature coordinated    \n",
    "    npUniqueFeaturesValues, npCountFeaturesValues = np.unique(npFeature,return_counts = True)    \n",
    "    npFeaturesValueProb = npCountFeaturesValues / len(npFeature)  \n",
    "    \n",
    "    #To prevent impurity_func=gini and gain_ratio=True\n",
    "    if(gain_ratio == True):\n",
    "        impurityOfS = calc_entropy(npFeatureAndLabel)\n",
    "    else:\n",
    "        impurityOfS=impurity_func(npFeatureAndLabel)\n",
    "    \n",
    "    for currentFeatureValue in npUniqueFeaturesValues:\n",
    "        #Delete all rows of feature that dont contain the current value\n",
    "        npCurrentFeatureValueAndLabel = npFeatureAndLabel[(npFeatureAndLabel[:,0] == currentFeatureValue)]\n",
    "        if(gain_ratio == True):\n",
    "             impurityBaseFeatureValue = calc_entropy(npCurrentFeatureValueAndLabel)\n",
    "        else:\n",
    "             impurityBaseFeatureValue = impurity_func(npCurrentFeatureValueAndLabel) \n",
    "        #Calculate the inner mathematical expression of sigma         \n",
    "        impurityBaseFeatureValue = impurityBaseFeatureValue * npFeaturesValueProb[index]       \n",
    "        impurityOfS = impurityOfS - impurityBaseFeatureValue\n",
    "        index = index + 1\n",
    "    if(gain_ratio == False):\n",
    "        goodness =  impurityOfS\n",
    "    else:\n",
    "        splitInformation = np.sum(np.dot((npFeaturesValueProb),np.log2(npFeaturesValueProb)))\n",
    "        if(splitInformation != 0):\n",
    "            goodness = impurityOfS / ((-1)*splitInformation)\n",
    "        else:\n",
    "            return 0;\n",
    "\n",
    "    ###########################################################################\n",
    "    #                             END OF YOUR CODE                            #\n",
    "    ###########################################################################\n",
    "    return goodness    "
   ]
  },
  {
   "cell_type": "markdown",
   "metadata": {},
   "source": [
    "## Building a Decision Tree\n",
    "\n",
    "(30 points)\n",
    "\n",
    "Use a Python class to construct the decision tree. Your class should support the following functionality:\n",
    "\n",
    "1. Initiating a node for a decision tree. You will need to use several class methods and class attributes and you are free to use them as you see fit. We recommend that every node will hold the feature and value used for the split and its children.\n",
    "2. Your code should support both Gini and Entropy as impurity measures. \n",
    "3. The provided data includes categorical data. In this exercise, when splitting a node create the number of children needed according to the attribute unique values.\n",
    "\n",
    "Complete the class `DecisionNode`. The structure of this class is entirely up to you. \n",
    "\n",
    "Complete the function `build_tree`. This function should get the training dataset and the impurity as inputs, initiate a root for the decision tree and construct the tree according to the procedure you learned in class."
   ]
  },
  {
   "cell_type": "code",
   "execution_count": 16,
   "metadata": {},
   "outputs": [],
   "source": [
    "class DecisionNode:\n",
    "\n",
    "    # This class will hold everything you require to construct a decision tree.\n",
    "    # The structure of this class is up to you. However, you need to support basic \n",
    "    # functionality as described above. It is highly recommended that you \n",
    "    # first read and understand the entire exercise before diving into this class.\n",
    "    \n",
    "        def __init__(self,splitFeature,valueOfFatherfeature , featureListNotUsed, depth,father, twoDClassificationArray):\n",
    "            self.splitFeature = splitFeature # column index of criteria being tested\n",
    "            self.valueOfFatherfeature = valueOfFatherfeature # \n",
    "            self.twoDClassificationArray=twoDClassificationArray.copy()\n",
    "            self.children = []\n",
    "            self.featureListNotUsed = featureListNotUsed.copy()\n",
    "            self.depth = depth\n",
    "            self.father = father\n",
    "            self.pred=None\n",
    "        \n",
    "        #Add child to current node children list\n",
    "        def add_child(self, node):        \n",
    "            self.children.append(node)\n",
    "        \n",
    "        #Check if current node is monochromatic\n",
    "        def isPure (self):\n",
    "            return (len(self.twoDClassificationArray)==1)\n",
    "         \n",
    "        #Set the predication for current node     \n",
    "        def set_mypred(self):\n",
    "            maximalRowIndex=np.argmax(self.twoDClassificationArray[:,1])\n",
    "            predication=self.twoDClassificationArray[maximalRowIndex][0]\n",
    "            self.pred = predication\n",
    "       \n",
    "        # The method find the best feature for split the node, according to the given data\n",
    "        #Side effect: delete the feature from node's featureListNotUsed list\n",
    "        def set_feature_for_spilt (self,featureList, data, impurity, gain_ratio=False):                       \n",
    "            maxFeature=None\n",
    "            maxGoodnessOfSplit=None\n",
    "            for i in range(len(featureList)):\n",
    "                currentGoodnessOfSplit = goodness_of_split(data,featureList[i], impurity, gain_ratio)              \n",
    "                if((maxFeature==None) or (maxGoodnessOfSplit < currentGoodnessOfSplit)):\n",
    "                    maxFeature=featureList[i]\n",
    "                    maxGoodnessOfSplit=currentGoodnessOfSplit\n",
    "            #Check if split isn't improve the tree\n",
    "            if(maxGoodnessOfSplit!=0):\n",
    "                self.splitFeature = maxFeature\n",
    "            return maxGoodnessOfSplit            \n",
    "       \n",
    "        #Remove the chosen feature from current featureListNotUsed list  \n",
    "        def delete_current_feature_from_list(self):\n",
    "            self.featureListNotUsed.remove(self.splitFeature)\n",
    "         \n",
    "        #Recursive method build the tree that current node is the root\n",
    "        def build_tree(self, data, impurity, gain_ratio, max_depth, chi,chi_table = None):\n",
    "            chi_check=False\n",
    "            #Stop condition for the recursive call\n",
    "            if((self.isPure() == True) or (len(self.featureListNotUsed) == 0) or (max_depth <= 0)):\n",
    "                return\n",
    "            else:\n",
    "                maxGoodnessOfSplit=self.set_feature_for_spilt(self.featureListNotUsed, data, impurity, gain_ratio) \n",
    "                if(maxGoodnessOfSplit!=0):\n",
    "                    chi_check = self.calc_chisquare(data, chi, chi_table)\n",
    "                    #Check for pre proning\n",
    "                    if((chi_check == True) or (self.splitFeature==\"leaf\")):\n",
    "                        return\n",
    "                    else:\n",
    "                        self.delete_current_feature_from_list()\n",
    "                        #Add children to the current node\n",
    "                        self.add_children(data.copy(), impurity, gain_ratio, max_depth, chi, chi_table)\n",
    "                        \n",
    "        #Add all children to the current node according to the chosen feature for split\n",
    "        def add_children(self, data, impurity, gain_ratio, max_depth, chi,chi_table = None):\n",
    "            npFeature = np.array(data[:,self.splitFeature])\n",
    "            #Get 2 numpy arrays, unique string name feature, array with the amount of apperancess of each feature coordinated\n",
    "            npUniqueFeaturesValues, npCountFeaturesValues = np.unique(npFeature,return_counts = True)\n",
    "            for featureValue in npUniqueFeaturesValues:\n",
    "                cleanDataForChild = data[(data[:,self.splitFeature] == featureValue )].copy()\n",
    "                npUniqueLabelValues, npCountLabelValues = np.unique(np.array(cleanDataForChild[:,-1]),return_counts = True)\n",
    "                npUniqueCountAndLabel = np.column_stack((npUniqueLabelValues,npCountLabelValues))\n",
    "                #Create new node as a child\n",
    "                nodeToAdd = DecisionNode('leaf', featureValue, self.featureListNotUsed, self.depth + 1, self, npUniqueCountAndLabel)\n",
    "                nodeToAdd.set_mypred()\n",
    "                self.add_child(nodeToAdd)\n",
    "                #Build the tree that new node is the root\n",
    "                nodeToAdd.build_tree(cleanDataForChild, impurity, gain_ratio, max_depth - 1, chi, chi_table)\n",
    "                \n",
    "        def calc_chisquare(self, data, chi, chi_table = None):\n",
    "            #Check that params are valid\n",
    "            if(chi >= 1 or chi_table == None):\n",
    "                return False\n",
    "            else:\n",
    "                sumSigma = 0.0\n",
    "                #Calculate the relevant variable to the formula\n",
    "                totalInstances=np.sum(self.twoDClassificationArray[:,1])                \n",
    "                probForEdible=float(self.twoDClassificationArray[self.twoDClassificationArray[:,0]=='e'][0,1])/totalInstances\n",
    "                probForPoision=float(self.twoDClassificationArray[self.twoDClassificationArray[:,0]=='p'][0,1])/totalInstances\n",
    "                npFeature = np.array(data[:,self.splitFeature])         \n",
    "                npUniqueFeaturesValues, npCountFeaturesValues = np.unique(npFeature,return_counts = True)\n",
    "                for featureValue in npUniqueFeaturesValues:\n",
    "                    cleanDataForChild = data[(data[:,self.splitFeature] == featureValue )].copy()\n",
    "                    npUniqueLabelValues, npCountLabelValues = np.unique(np.array(cleanDataForChild[:,-1]),return_counts = True)\n",
    "                    npUniqueCountAndLabel = np.column_stack((npUniqueLabelValues,npCountLabelValues))                \n",
    "                    numberOfFeatureValueEdible = len(cleanDataForChild[cleanDataForChild[:,-1]=='e'][:,0])\n",
    "                    numberOfFeatureValuePoisen =  len(cleanDataForChild[cleanDataForChild[:,-1]=='p'][:,0])\n",
    "                    numOfInstancesWithValue=len(cleanDataForChild[:,0])\n",
    "                    sumSigma = sumSigma + (np.square(numberOfFeatureValueEdible - (numOfInstancesWithValue * probForEdible))) / (numOfInstancesWithValue * probForEdible)\n",
    "                    sumSigma = sumSigma + (np.square(numberOfFeatureValuePoisen - (numOfInstancesWithValue * probForPoision))) / (numOfInstancesWithValue * probForPoision)\n",
    "                #Return boolean result according to the chi table    \n",
    "                return chi_table[len(npUniqueFeaturesValues) - 1][chi] >= sumSigma\n",
    "            \n",
    "        #Return the amount of poision in current node \n",
    "        def getAmountOfPoision(self):\n",
    "            poisionLabelRow=self.twoDClassificationArray[self.twoDClassificationArray[:,0]=='p']\n",
    "            if(len(poisionLabelRow)!=0):\n",
    "                return self.twoDClassificationArray[self.twoDClassificationArray[:,0]=='p'][0,1]\n",
    "            else:\n",
    "                return 0\n",
    "            \n",
    "        #Return the amount of edible in current node \n",
    "        def getAmountOfEdible(self):\n",
    "            edibleLabelRow=self.twoDClassificationArray[self.twoDClassificationArray[:,0]=='e']\n",
    "            if(len(edibleLabelRow)!=0):\n",
    "                return self.twoDClassificationArray[self.twoDClassificationArray[:,0]=='e'][0,1]\n",
    "            else:\n",
    "                return 0\n",
    "            \n",
    "        #Return the maximal depth of tree that current node is the root \n",
    "        def getMaxDepthOfTree(self, currentMaxDepth):            \n",
    "            for currentChild in self.children:\n",
    "                if(currentMaxDepth < currentChild.depth):                    \n",
    "                    currentMaxDepth=currentChild.depth\n",
    "                currentMaxDepth = currentChild.getMaxDepthOfTree(currentMaxDepth)\n",
    "            return currentMaxDepth\n",
    "            \n",
    "            "
   ]
  },
  {
   "cell_type": "code",
   "execution_count": 17,
   "metadata": {},
   "outputs": [
    {
     "name": "stdout",
     "output_type": "stream",
     "text": [
      "Feature number: 0, is: cap-shape, My values are: ['b' 'c' 'f' 'k' 's' 'x']\n",
      "Feature number: 1, is: cap-surface, My values are: ['f' 'g' 's' 'y']\n",
      "Feature number: 2, is: cap-color, My values are: ['b' 'c' 'e' 'g' 'n' 'p' 'r' 'u' 'w' 'y']\n",
      "Feature number: 3, is: bruises, My values are: ['f' 't']\n",
      "Feature number: 4, is: odor, My values are: ['a' 'c' 'f' 'l' 'm' 'n' 'p' 's' 'y']\n",
      "Feature number: 5, is: gill-attachment, My values are: ['a' 'f']\n",
      "Feature number: 6, is: gill-spacing, My values are: ['c' 'w']\n",
      "Feature number: 7, is: gill-size, My values are: ['b' 'n']\n",
      "Feature number: 8, is: gill-color, My values are: ['b' 'e' 'g' 'h' 'k' 'n' 'o' 'p' 'r' 'u' 'w' 'y']\n",
      "Feature number: 9, is: stalk-shape, My values are: ['e' 't']\n",
      "Feature number: 10, is: stalk-surface-above-ring, My values are: ['f' 'k' 's' 'y']\n",
      "Feature number: 11, is: stalk-surface-below-ring, My values are: ['f' 'k' 's' 'y']\n",
      "Feature number: 12, is: stalk-color-above-ring, My values are: ['b' 'c' 'e' 'g' 'n' 'o' 'p' 'w' 'y']\n",
      "Feature number: 13, is: stalk-color-below-ring, My values are: ['b' 'c' 'e' 'g' 'n' 'o' 'p' 'w' 'y']\n",
      "Feature number: 14, is: veil-type, My values are: ['p']\n",
      "Feature number: 15, is: veil-color, My values are: ['n' 'o' 'w' 'y']\n",
      "Feature number: 16, is: ring-number, My values are: ['n' 'o' 't']\n",
      "Feature number: 17, is: ring-type, My values are: ['e' 'f' 'l' 'n' 'p']\n",
      "Feature number: 18, is: spore-print-color, My values are: ['b' 'h' 'k' 'n' 'o' 'r' 'u' 'w' 'y']\n",
      "Feature number: 19, is: population, My values are: ['a' 'c' 'n' 's' 'v' 'y']\n",
      "Feature number: 20, is: habitat, My values are: ['d' 'g' 'l' 'm' 'p' 'u' 'w']\n",
      "Feature number: 21, is: class, My values are: ['e' 'p']\n"
     ]
    }
   ],
   "source": [
    "#####################################################\n",
    "################# Debug Code ########################\n",
    "#####################################################\n",
    "def printChildrenList(childrenList):\n",
    "    print(\"My children\")\n",
    "    for child in childrenList:\n",
    "        print(child.valueOfFatherfeature)\n",
    "        \n",
    "def printIndexAndLabel(data):\n",
    "    columnsList=list(data.columns)\n",
    "    data=data.to_numpy()\n",
    "    for i in range(len(columnsList)):        \n",
    "        currentFeatureForSplit=i\n",
    "        npFeature = np.array(data[:,currentFeatureForSplit])\n",
    "        npLabels = np.array(data[:,-1])        \n",
    "        npUniqueFeaturesValues, npCountFeaturesValues = np.unique(npFeature,return_counts = True)   \n",
    "    \n",
    "        print (\"Feature number: \"+str(i)+ \", is: \"+str(columnsList[i])+\", My values are: \"+str(npUniqueFeaturesValues))\n",
    "        \n",
    "printIndexAndLabel(data)\n",
    "\n",
    "def printTreeUpToDown(node,depth):\n",
    "    if(node!=None):        \n",
    "        if(depth==node.depth and node.depth!=0):\n",
    "                print(\"\\nIm the node on depth: \"+str(node.depth)+\"\\nMy value is: \"+str(node.valueOfFatherfeature)+\"\\nMy feature is: \"+str(node.splitFeature)+\"\\nMy father value is: \"+str(node.father.valueOfFatherfeature)+\"\\nI can choose from features list: \"+str(node.featureListNotUsed)+\"\\nPoision Vs Edible: \"+str(node.twoDClassificationArray))\n",
    "        if(depth==node.depth and node.depth==0):\n",
    "                print(\"\\nIm the node on depth: \"+str(node.depth)+\"\\nMy value is: \"+str(node.valueOfFatherfeature)+\"\\nMy feature is: \"+str(node.splitFeature)+\"\\nI can choose from features list: \"+str(node.featureListNotUsed)+\"\\nPoision Vs Edible: \"+str(node.twoDClassificationArray))\n",
    "        for child in node.children:\n",
    "            printTreeUpToDown(child,depth)    \n",
    "       "
   ]
  },
  {
   "cell_type": "code",
   "execution_count": 18,
   "metadata": {},
   "outputs": [],
   "source": [
    "def build_tree(data, impurity, featureList, gain_ratio=False, chi=1, max_depth=1000, chi_table = None):\n",
    "    \"\"\"\n",
    "    Build a tree using the given impurity measure and training dataset. \n",
    "    You are required to fully grow the tree until all leaves are pure. \n",
    "\n",
    "    Input:\n",
    "    - data: the training dataset.\n",
    "    - impurity: the chosen impurity measure. Notice that you can send a function\n",
    "                as an argument in python.\n",
    "    - gain_ratio: goodness of split or gain ratio flag\n",
    "\n",
    "    Output: the root node of the tree.\n",
    "    \"\"\"\n",
    "    root = None\n",
    "    ###########################################################################\n",
    "    # TODO: Implement the function.                                           #\n",
    "    ###########################################################################    \n",
    "    featureListNotUsed=list(range(0,data.shape[1]-1))\n",
    "    #Get 2 numpy arrays, unique string name feature, array with the amount of apperancess of each feature coordinated\n",
    "    npUniqueLabelValues, npCountLabelValues = np.unique(np.array(data[:,-1]),return_counts = True)\n",
    "    #Combine the feature and label columns                       \n",
    "    npUniqueCountAndLabel = np.column_stack((npUniqueLabelValues,npCountLabelValues))\n",
    "    #Create the root node of tree\n",
    "    root = DecisionNode('leaf','ROOT' , featureListNotUsed, 0, None, npUniqueCountAndLabel)\n",
    "    root.set_mypred()\n",
    "    #Build the tree\n",
    "    root.build_tree(data, impurity, gain_ratio, max_depth , chi, chi_table)    \n",
    "    ###########################################################################\n",
    "    #                             END OF YOUR CODE                            #\n",
    "    ###########################################################################\n",
    "    return root"
   ]
  },
  {
   "cell_type": "code",
   "execution_count": 19,
   "metadata": {},
   "outputs": [],
   "source": [
    "# python support passing a function as arguments to another function.\n",
    "currentFeatureList = list(range(0,len(X_train[0])-1))\n",
    "tree_gini = build_tree(X_train, calc_gini,currentFeatureList) # gini and goodness of split\n",
    "tree_entropy = build_tree(X_train, calc_entropy,currentFeatureList) # entropy and goodness of split\n",
    "tree_entropy_gain_ratio = build_tree(X_train, calc_entropy, currentFeatureList,gain_ratio=True) # entropy and gain ratio"
   ]
  },
  {
   "cell_type": "markdown",
   "metadata": {},
   "source": [
    "## Tree evaluation\n",
    "\n",
    "(10 points) \n",
    "\n",
    "Complete the functions `predict` and `calc_accuracy`. "
   ]
  },
  {
   "cell_type": "code",
   "execution_count": 20,
   "metadata": {
    "pixiedust": {
     "displayParams": {}
    }
   },
   "outputs": [],
   "source": [
    "def predict(node, instance):\n",
    "    \"\"\"\n",
    "    Predict a given instance using the decision tree\n",
    " \n",
    "    Input:\n",
    "    - root: the root of the decision tree.\n",
    "    - instance: an row vector from the dataset. Note that the last element \n",
    "                of this vector is the label of the instance.\n",
    " \n",
    "    Output: the prediction of the instance.\n",
    "    \"\"\"\n",
    "    pred = None\n",
    "    ###########################################################################\n",
    "    # TODO: Implement the function.                                           #\n",
    "    ###########################################################################\n",
    "    #Initialize the current node children list\n",
    "    currentNodeChildrenList=node.children\n",
    "    #Check if node isn't a leaf    \n",
    "    if(node.splitFeature != 'leaf'):\n",
    "        currentSplitFeatureIndex=node.splitFeature\n",
    "        valueFeatureOfInstance=instance[currentSplitFeatureIndex]\n",
    "        for currentChild in currentNodeChildrenList:\n",
    "            if(valueFeatureOfInstance==currentChild.valueOfFatherfeature):                \n",
    "                return predict(currentChild,instance)   \n",
    "    ###########################################################################\n",
    "    #                             END OF YOUR CODE                            #\n",
    "    ###########################################################################\n",
    "    return node.pred"
   ]
  },
  {
   "cell_type": "code",
   "execution_count": 21,
   "metadata": {},
   "outputs": [],
   "source": [
    "def calc_accuracy(node, dataset):\n",
    "    \"\"\"\n",
    "    Predict a given dataset using the decision tree\n",
    " \n",
    "    Input:\n",
    "    - node: a node in the decision tree.\n",
    "    - dataset: the dataset on which the accuracy is evaluated\n",
    " \n",
    "    Output: the accuracy of the \n",
    "    decision tree on the given dataset (%).\n",
    "    \"\"\"\n",
    "    accuracy = 0\n",
    "    ###########################################################################\n",
    "    # TODO: Implement the function.                                           #\n",
    "    ###########################################################################\n",
    "    countOfRightPred=0.0\n",
    "    for i in range(len(dataset[:,0])):  \n",
    "        currentPred = predict(node, dataset[i,:])\n",
    "        #Check if our prediction equal the test label\n",
    "        if(currentPred==dataset[i,-1]):\n",
    "            countOfRightPred=countOfRightPred+1    \n",
    "    x=countOfRightPred/len(dataset[:,0])    \n",
    "    accuracy=x * 100\n",
    "    ###########################################################################\n",
    "    #                             END OF YOUR CODE                            #\n",
    "    ###########################################################################\n",
    "    return accuracy "
   ]
  },
  {
   "cell_type": "markdown",
   "metadata": {},
   "source": [
    "After building the three trees using the training set, you should calculate the accuracy on the test set. For each tree print the training and test accuracy. Select the tree that gave you the best test accuracy. For the rest of the exercise, use that tree (when you asked to build another tree use the same impurity function and same gain_ratio flag). "
   ]
  },
  {
   "cell_type": "code",
   "execution_count": 22,
   "metadata": {},
   "outputs": [
    {
     "name": "stdout",
     "output_type": "stream",
     "text": [
      "99.24503528639423\n",
      "77.5972427375677\n",
      "99.40915805022156\n",
      "77.30182176267849\n",
      "99.63892991957984\n",
      "78.58197932053176\n"
     ]
    }
   ],
   "source": [
    "#### Your code here ####\n",
    "currentFeatureList = list(range(0,len(X_train[0])-1))\n",
    "tree_gini = build_tree(X_train, calc_gini,currentFeatureList ) # gini and goodness of split\n",
    "tree_entropy = build_tree(X_train, calc_entropy,currentFeatureList ) # entropy and goodness of split\n",
    "tree_entropy_gain_ratio = build_tree(X_train, calc_entropy,currentFeatureList , gain_ratio=True) # entropy and gain ratio\n",
    "\n",
    "print(calc_accuracy(tree_gini,X_train))\n",
    "print(calc_accuracy(tree_gini, X_test))\n",
    "print(calc_accuracy(tree_entropy, X_train))\n",
    "print(calc_accuracy(tree_entropy, X_test))\n",
    "print(calc_accuracy(tree_entropy_gain_ratio, X_train))\n",
    "print(calc_accuracy(tree_entropy_gain_ratio, X_test))"
   ]
  },
  {
   "cell_type": "markdown",
   "metadata": {},
   "source": [
    "## Depth pruning\n",
    "\n",
    "(15 points)\n",
    "\n",
    "Consider the following max_depth values: [1, 2, 3, 4, 5, 6, 7, 8, 9, 10]. For each value, construct a tree and prune it according to the max_depth value = don't let the tree to grow beyond this depth. Next, calculate the training and testing accuracy.<br>\n",
    "On a single plot, draw the training and testing accuracy as a function of the max_depth. Mark the best result on the graph with red circle."
   ]
  },
  {
   "cell_type": "code",
   "execution_count": 23,
   "metadata": {},
   "outputs": [
    {
     "data": {
      "image/png": "[encoded data removed]",
      "text/plain": [
       "<Figure size 1080x1080 with 1 Axes>"
      ]
     },
     "metadata": {},
     "output_type": "display_data"
    }
   ],
   "source": [
    "#### Your code here ####\n",
    "plt.style.use('seaborn')\n",
    "fig = plt.figure(figsize=(15,15))\n",
    "\n",
    "npTestArray = np.arange(10.0) \n",
    "npTrainArray = np.arange(10.0)\n",
    "\n",
    "for i in range (0,10):\n",
    "    currentFeatureList = list(range(0,len(X_train[0])-1))\n",
    "    rootI = build_tree(X_train, calc_entropy, currentFeatureList, True,1,i)\n",
    "    npTrainArray[i] = calc_accuracy(rootI,X_train)\n",
    "    npTestArray[i] = calc_accuracy(rootI,X_test)\n",
    "\n",
    "#Mark the best result on the test data\n",
    "maxTest = np.array(np.amax(npTestArray))\n",
    "indexMaxTest = np.where(npTestArray == maxTest)[0][0] + 1\n",
    "plt.plot(np.arange(1,1 + len(npTestArray)),npTestArray,label='Test',markevery = indexMaxTest)\n",
    "plt.plot(np.arange(1,1 + len(npTrainArray)),npTrainArray,label='Train')\n",
    "plt.xlabel('Tree Depth',fontsize='16')\n",
    "plt.ylabel('Accuracy (%)',fontsize='16')\n",
    "plt.legend(loc='upper left',fontsize='13',title='Accuracy Train set VS Test set')\n",
    "plt.title ('Accuracy Train VS Test', fontsize = '18')\n",
    "plt.plot(indexMaxTest,maxTest, marker='o', linestyle='-', color='red',markersize = 16)\n",
    "plt.show()    "
   ]
  },
  {
   "cell_type": "markdown",
   "metadata": {},
   "source": [
    "## Chi square pre-pruning\n",
    "\n",
    "(15 points)\n",
    "\n",
    "Consider the following p-value cut-off values: [1 (no pruning), 0.5, 0.25, 0.1, 0.05, 0.0001 (max pruning)]. For each value, construct a tree and prune it according to the cut-off value. Next, calculate the training and testing accuracy. <br>\n",
    "On a single plot, draw the training and testing accuracy as a function of the tuple (p-value, tree depth). Mark the best result on the graph with red circle."
   ]
  },
  {
   "cell_type": "code",
   "execution_count": 24,
   "metadata": {},
   "outputs": [],
   "source": [
    "### Chi square table values ###\n",
    "# The first key is the degree of freedom \n",
    "# The second key is the p-value cut-off\n",
    "# The values are the chi-statistic that you need to use in the pruning\n",
    "chi_table = {1: {0.5 : 0.45,\n",
    "                 0.25 : 1.32,\n",
    "                 0.1 : 2.71,\n",
    "                 0.05 : 3.84,\n",
    "                 0.0001 : 100000},\n",
    "             2: {0.5 : 1.39,\n",
    "                 0.25 : 2.77,\n",
    "                 0.1 : 4.60,\n",
    "                 0.05 : 5.99,\n",
    "                 0.0001 : 100000},\n",
    "             3: {0.5 : 2.37,\n",
    "                 0.25 : 4.11,\n",
    "                 0.1 : 6.25,\n",
    "                 0.05 : 7.82,\n",
    "                 0.0001 : 100000},\n",
    "             4: {0.5 : 3.36,\n",
    "                 0.25 : 5.38,\n",
    "                 0.1 : 7.78,\n",
    "                 0.05 : 9.49,\n",
    "                 0.0001 : 100000},\n",
    "             5: {0.5 : 4.35,\n",
    "                 0.25 : 6.63,\n",
    "                 0.1 : 9.24,\n",
    "                 0.05 : 11.07,\n",
    "                 0.0001 : 100000},\n",
    "             6: {0.5 : 5.35,\n",
    "                 0.25 : 7.84,\n",
    "                 0.1 : 10.64,\n",
    "                 0.05 : 12.59,\n",
    "                 0.0001 : 100000},\n",
    "             7: {0.5 : 6.35,\n",
    "                 0.25 : 9.04,\n",
    "                 0.1 : 12.01,\n",
    "                 0.05 : 14.07,\n",
    "                 0.0001 : 100000},\n",
    "             8: {0.5 : 7.34,\n",
    "                 0.25 : 10.22,\n",
    "                 0.1 : 13.36,\n",
    "                 0.05 : 15.51,\n",
    "                 0.0001 : 100000},\n",
    "             9: {0.5 : 8.34,\n",
    "                 0.25 : 11.39,\n",
    "                 0.1 : 14.68,\n",
    "                 0.05 : 16.92,\n",
    "                 0.0001 : 100000},\n",
    "             10: {0.5 : 9.34,\n",
    "                  0.25 : 12.55,\n",
    "                  0.1 : 15.99,\n",
    "                  0.05 : 18.31,\n",
    "                  0.0001 : 100000},\n",
    "             11: {0.5 : 10.34,\n",
    "                  0.25 : 13.7,\n",
    "                  0.1 : 17.27,\n",
    "                  0.05 : 19.68,\n",
    "                  0.0001 : 100000}}"
   ]
  },
  {
   "cell_type": "code",
   "execution_count": 32,
   "metadata": {},
   "outputs": [
    {
     "data": {
      "image/png": "[encoded data removed]",
      "text/plain": [
       "<Figure size 1296x1296 with 1 Axes>"
      ]
     },
     "metadata": {},
     "output_type": "display_data"
    }
   ],
   "source": [
    "#### Your code here ####\n",
    "plt.style.use('seaborn')\n",
    "fig = plt.figure(figsize=(18,18))\n",
    "npDepthArray = np.arange(6) \n",
    "npTestArray = np.arange(6.0) \n",
    "npTrainArray = np.arange(6.0)\n",
    "featureList=list(range(0,len(X_train[0])-1))\n",
    "alpahList = list((chi_table.get(1)).keys())\n",
    "alpahList.insert(0,1)\n",
    "alphaAndDepthList=[]\n",
    "\n",
    "i=0\n",
    "for alphaRisk in(alpahList):  \n",
    "    rootI=build_tree(X_train,calc_entropy,featureList,True,alphaRisk,1000,chi_table)    \n",
    "    npTrainArray[i] = calc_accuracy(rootI,X_train)\n",
    "    npTestArray[i] = calc_accuracy(rootI,X_test)\n",
    "    npDepthArray[i] = rootI.getMaxDepthOfTree(0)\n",
    "    #Create a tuple of (p-value, max depth)\n",
    "    alphaAndDepthList.append((\"(\"+str(alphaRisk)+\", \"+ str(npDepthArray[i])+\")\"))\n",
    "    i=i+1\n",
    "\n",
    "npAlpahArray=np.array(alpahList, dtype = np.float32)\n",
    "#Change axis X to a tuple of(p-value, max depth)\n",
    "plt.xticks(npAlpahArray,alphaAndDepthList)\n",
    "#Mark the best result on the test data\n",
    "maxTest = np.array(np.amax(npTestArray))\n",
    "indexMaxTest = np.where(npTestArray == maxTest)[0][0]\n",
    "plt.plot(npAlpahArray,npTestArray,label='Test')\n",
    "plt.plot(npAlpahArray,npTrainArray,label='Train')\n",
    "plt.xlabel('(Alpha risk, Max depth)',fontsize='16')\n",
    "plt.ylabel('Accuracy (%)',fontsize='16')\n",
    "\n",
    "plt.legend(loc='upper left',fontsize='13',title='')\n",
    "plt.title ('Chi square pre-pruning', fontsize = '18')\n",
    "plt.plot(npAlpahArray[indexMaxTest],maxTest, marker='o', linestyle='-', color='red',markersize = 16)\n",
    "\n",
    "plt.show()"
   ]
  },
  {
   "cell_type": "markdown",
   "metadata": {},
   "source": [
    "Build the best 2 trees:\n",
    "1. tree_max_depth - the best tree according to max_depth pruning\n",
    "1. tree_chi - the best tree according to chi square pruning"
   ]
  },
  {
   "cell_type": "code",
   "execution_count": 26,
   "metadata": {},
   "outputs": [],
   "source": [
    "#### Your code here ####\n",
    "currentFeatureList = list(range(0,len(X_train[0])-1))\n",
    "tree_max_depth=build_tree(X_train, calc_entropy, currentFeatureList, True,1,4,chi_table)\n",
    "tree_chi=build_tree(X_train, calc_entropy, currentFeatureList, True,0.1,1000,chi_table)"
   ]
  },
  {
   "cell_type": "markdown",
   "metadata": {},
   "source": [
    "## Number of Nodes\n",
    "\n",
    "(5 points) \n",
    "\n",
    "Of the two trees above we will choose the one with fewer nodes.\n",
    "\n",
    "Complete the function counts_nodes and print the number of nodes in each tree"
   ]
  },
  {
   "cell_type": "code",
   "execution_count": 27,
   "metadata": {},
   "outputs": [],
   "source": [
    "def count_nodes(node):\n",
    "    \"\"\"\n",
    "    \n",
    "    Count the number of node in a given tree\n",
    " \n",
    "    Input:\n",
    "    - node: a node in the decision tree.\n",
    " \n",
    "    Output: the number of node in the tree.\n",
    "    \"\"\"\n",
    "    ###########################################################################\n",
    "    # TODO: Implement the function.                                           #\n",
    "    ###########################################################################\n",
    "    count = 0\n",
    "    #Stop condition of the recursive call\n",
    "    if(len(node.children)==0):\n",
    "        return 0\n",
    "    else:\n",
    "        #Count the Root node\n",
    "        if(node.valueOfFatherfeature == 'ROOT'):\n",
    "            count = count + 1\n",
    "        for currentNodeChild in node.children:\n",
    "            count = count + 1 + count_nodes(currentNodeChild)   \n",
    "    ###########################################################################\n",
    "    #                             END OF YOUR CODE                            #\n",
    "    ###########################################################################\n",
    "    return count"
   ]
  },
  {
   "cell_type": "code",
   "execution_count": 28,
   "metadata": {},
   "outputs": [
    {
     "name": "stdout",
     "output_type": "stream",
     "text": [
      "205\n",
      "55\n"
     ]
    }
   ],
   "source": [
    "#################################\n",
    "######### Print Check ###########\n",
    "#################################\n",
    "print(count_nodes(tree_max_depth))\n",
    "print(count_nodes(tree_chi))"
   ]
  },
  {
   "cell_type": "markdown",
   "metadata": {},
   "source": [
    "## Print the tree\n",
    "\n",
    "(5 points)\n",
    "\n",
    "Complete the function `print_tree` and execute it on your chosen tree. Your code should do print:\n",
    "```\n",
    "[ROOT, feature=X0],\n",
    "  [X0=a, feature=X2]\n",
    "    [X2=c, leaf]: [{1.0: 10}]\n",
    "    [X2=d, leaf]: [{0.0: 10}]\n",
    "  [X0=y, feature=X5], \n",
    "       [X5=a, leaf]: [{1.0: 5}]\n",
    "       [X5=s, leaf]: [{0.0: 10}]\n",
    "  [X0=e, leaf]: [{0.0: 25, 1.0: 50}]\n",
    "```\n",
    "In each brackets:\n",
    "* The first argument is the parent feature with the value that led to current node\n",
    "* The second argument is the selected feature of the current node\n",
    "* If the current node is a leaf, you need to print also the labels and their counts"
   ]
  },
  {
   "cell_type": "code",
   "execution_count": 30,
   "metadata": {},
   "outputs": [],
   "source": [
    "# you can change the function signeture\n",
    "def print_tree(node, depth=0, parent_feature='ROOT', feature_val='ROOT'):\n",
    "    '''\n",
    "    prints the tree according to the example above\n",
    "\n",
    "    Input:\n",
    "    - node: a node in the decision tree\n",
    "\n",
    "    This function has no return value\n",
    "    '''\n",
    "         \n",
    "    ###########################################################################\n",
    "    # TODO: Implement the function.                                           #\n",
    "    ###########################################################################\n",
    "    #Create the indentation String\n",
    "    indentation = \"\\t\" * depth\n",
    "    #Print string for leaf node\n",
    "    if node.splitFeature=='leaf':\n",
    "        zeroFeatureLine=\"\"\n",
    "        oneFeatureLine=\"\"\n",
    "        valueLeafLine=\"\"\n",
    "        #Check if the leaf is monochromatic \n",
    "        if(node.getAmountOfPoision()>0):\n",
    "            zeroFeatureLine=\"0.0: %s\" % (node.getAmountOfPoision())\n",
    "        if(node.getAmountOfEdible()>0):\n",
    "            oneFeatureLine=\"1.0: %s\" % (node.getAmountOfEdible())\n",
    "        if(node.isPure()==False):            \n",
    "            valueLeafLine=\"%s, %s\" % (zeroFeatureLine, oneFeatureLine)\n",
    "        else:\n",
    "            valueLeafLine=\"%s%s\" % (zeroFeatureLine, oneFeatureLine)\n",
    "        currentLine = \"[X%s=%s, leaf]: [{%s}]\" % (node.father.splitFeature,node.valueOfFatherfeature,valueLeafLine)            \n",
    "        print(\"%s%s\" % (indentation, currentLine))\n",
    "        return\n",
    "    else:\n",
    "        #Print string for non leaf node and Root node\n",
    "        if(node.valueOfFatherfeature!='ROOT'):\n",
    "            currentLine = \"[X%s=%s, feature=X%s]\" % (node.father.splitFeature, node.valueOfFatherfeature,node.splitFeature)\n",
    "            print(\"%s%s\" % (indentation, currentLine))\n",
    "        else:\n",
    "            currentLine = \"[%s, feature=X%s]\" % (node.valueOfFatherfeature, node.splitFeature)\n",
    "            print(\"%s%s\" % (indentation, currentLine))\n",
    "        depth += 1\n",
    "        for currentChild in node.children:                       \n",
    "                print_tree(currentChild, depth)  \n",
    "    ###########################################################################\n",
    "    #                             END OF YOUR CODE                            #\n",
    "    ###########################################################################"
   ]
  },
  {
   "cell_type": "code",
   "execution_count": 31,
   "metadata": {
    "scrolled": true
   },
   "outputs": [
    {
     "name": "stdout",
     "output_type": "stream",
     "text": [
      "[ROOT, feature=X4]\n",
      "\t[X4=a, feature=X2]\n",
      "\t[X4=c, feature=X6]\n",
      "\t[X4=f, feature=X10]\n",
      "\t\t[X10=f, feature=X2]\n",
      "\t\t\t[X2=b, feature=X19]\n",
      "\t\t\t[X2=g, feature=X0]\n",
      "\t\t\t[X2=w, feature=X8]\n",
      "\t\t[X10=k, feature=X11]\n",
      "\t\t[X10=s, feature=X19]\n",
      "\t[X4=l, feature=X1]\n",
      "\t\t[X1=f, feature=X0]\n",
      "\t\t[X1=s, feature=X2]\n",
      "\t\t[X1=y, feature=X20]\n",
      "\t[X4=m, feature=X0]\n",
      "\t[X4=n, feature=X7]\n",
      "\t\t[X7=b, feature=X18]\n",
      "\t\t\t[X18=b, feature=X0]\n",
      "\t\t\t[X18=k, feature=X11]\n",
      "\t\t\t[X18=n, feature=X15]\n",
      "\t\t\t[X18=o, feature=X19]\n",
      "\t\t\t\t[X19=c, feature=X0]\n",
      "\t\t\t\t[X19=v, leaf]: [{1.0: 16}]\n",
      "\t\t\t[X18=r, feature=X8]\n",
      "\t\t\t[X18=w, feature=X13]\n",
      "\t\t\t[X18=y, feature=X0]\n",
      "\t\t[X7=n, feature=X3]\n",
      "\t\t\t[X3=f, feature=X10]\n",
      "\t\t\t\t[X10=f, feature=X1]\n",
      "\t\t\t\t[X10=k, leaf]: [{0.0: 25}]\n",
      "\t\t\t\t[X10=s, feature=X2]\n",
      "\t\t\t\t\t[X2=c, leaf]: [{1.0: 10}]\n",
      "\t\t\t\t\t[X2=g, feature=X18]\n",
      "\t\t\t\t\t[X2=n, feature=X18]\n",
      "\t\t\t\t\t[X2=r, feature=X8]\n",
      "\t\t\t\t\t[X2=u, leaf]: [{1.0: 14}]\n",
      "\t\t\t\t\t[X2=w, feature=X0]\n",
      "\t\t\t\t[X10=y, leaf]: [{0.0: 7}]\n",
      "\t\t\t[X3=t, leaf]: [{0.0: 8}]\n",
      "\t[X4=p, feature=X0]\n",
      "\t\t[X0=f, feature=X18]\n",
      "\t\t\t[X18=k, feature=X8]\n",
      "\t\t\t[X18=n, feature=X8]\n",
      "\t\t[X0=x, feature=X1]\n",
      "\t[X4=s, feature=X13]\n",
      "\t\t[X13=p, feature=X11]\n",
      "\t\t[X13=w, feature=X12]\n",
      "\t\t\t[X12=p, feature=X11]\n",
      "\t\t\t[X12=w, feature=X0]\n",
      "\t\t\t\t[X0=f, leaf]: [{0.0: 38}]\n",
      "\t\t\t\t[X0=k, feature=X20]\n",
      "\t\t\t\t[X0=x, feature=X20]\n",
      "\t[X4=y, feature=X1]\n",
      "\t\t[X1=s, feature=X2]\n",
      "\t\t[X1=y, feature=X12]\n"
     ]
    }
   ],
   "source": [
    "#################################\n",
    "######### Print Check ###########\n",
    "#################################\n",
    "print_tree(tree_chi)"
   ]
  }
 ],
 "metadata": {
  "celltoolbar": "Create Assignment",
  "kernelspec": {
   "display_name": "Python 3",
   "language": "python",
   "name": "python3"
  },
  "language_info": {
   "codemirror_mode": {
    "name": "ipython",
    "version": 3
   },
   "file_extension": ".py",
   "mimetype": "text/x-python",
   "name": "python",
   "nbconvert_exporter": "python",
   "pygments_lexer": "ipython3",
   "version": "3.7.6"
  }
 },
 "nbformat": 4,
 "nbformat_minor": 2
}
